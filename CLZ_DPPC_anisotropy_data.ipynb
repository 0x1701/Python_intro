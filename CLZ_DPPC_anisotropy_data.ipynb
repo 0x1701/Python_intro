{
 "cells": [
  {
   "cell_type": "code",
   "execution_count": 1,
   "metadata": {},
   "outputs": [],
   "source": [
    "import numpy\n",
    "import os\n",
    "import matplotlib.pyplot as plt"
   ]
  },
  {
   "cell_type": "code",
   "execution_count": 2,
   "metadata": {},
   "outputs": [
    {
     "name": "stdout",
     "output_type": "stream",
     "text": [
      "[['Temperature' 'DPPC_with_Clozapine' 'DPPC']\n",
      " ['28' '0.351171343' '0.333599929']\n",
      " ['34' '0.341678749' '0.331527116']\n",
      " ['36' '0.337453748' '0.325561089']\n",
      " ['38' '0.32745428' '0.319663181']\n",
      " ['39' '0.314411738' '0.312528576']\n",
      " ['40' '0.285650625' '0.292402709']\n",
      " ['40.5' '0.259848398' '0.276429839']\n",
      " ['41' '0.243114571' '0.254515073']\n",
      " ['42' '0.236762044' '0.212880287']\n",
      " ['46' '0.225835077' '0.20013574']\n",
      " ['50' '0.217252475' '0.19522877']\n",
      " ['52' '0.21503271' '0.191634918']]\n"
     ]
    }
   ],
   "source": [
    "anisotropy_file = os.path.join('data', 'pythondata.csv')\n",
    "anisotropy = numpy.genfromtxt(fname=anisotropy_file, delimiter=',', dtype='unicode')\n",
    "print(anisotropy)"
   ]
  },
  {
   "cell_type": "code",
   "execution_count": 4,
   "metadata": {},
   "outputs": [
    {
     "name": "stdout",
     "output_type": "stream",
     "text": [
      "['Temperature' 'DPPC_with_Clozapine' 'DPPC']\n"
     ]
    }
   ],
   "source": [
    "headers=anisotropy[0]\n",
    "print(headers)"
   ]
  },
  {
   "cell_type": "code",
   "execution_count": 6,
   "metadata": {},
   "outputs": [
    {
     "name": "stdout",
     "output_type": "stream",
     "text": [
      "[['28' '0.351171343' '0.333599929']\n",
      " ['34' '0.341678749' '0.331527116']\n",
      " ['36' '0.337453748' '0.325561089']\n",
      " ['38' '0.32745428' '0.319663181']\n",
      " ['39' '0.314411738' '0.312528576']\n",
      " ['40' '0.285650625' '0.292402709']\n",
      " ['40.5' '0.259848398' '0.276429839']\n",
      " ['41' '0.243114571' '0.254515073']\n",
      " ['42' '0.236762044' '0.212880287']\n",
      " ['46' '0.225835077' '0.20013574']\n",
      " ['50' '0.217252475' '0.19522877']\n",
      " ['52' '0.21503271' '0.191634918']]\n"
     ]
    }
   ],
   "source": [
    "alldata=anisotropy[1:]\n",
    "print(alldata)"
   ]
  },
  {
   "cell_type": "code",
   "execution_count": 8,
   "metadata": {},
   "outputs": [
    {
     "name": "stdout",
     "output_type": "stream",
     "text": [
      "[[28.          0.35117134  0.33359993]\n",
      " [34.          0.34167875  0.33152712]\n",
      " [36.          0.33745375  0.32556109]\n",
      " [38.          0.32745428  0.31966318]\n",
      " [39.          0.31441174  0.31252858]\n",
      " [40.          0.28565062  0.29240271]\n",
      " [40.5         0.2598484   0.27642984]\n",
      " [41.          0.24311457  0.25451507]\n",
      " [42.          0.23676204  0.21288029]\n",
      " [46.          0.22583508  0.20013574]\n",
      " [50.          0.21725248  0.19522877]\n",
      " [52.          0.21503271  0.19163492]]\n"
     ]
    }
   ],
   "source": [
    "alldata = alldata.astype(numpy.float)\n",
    "print(alldata)"
   ]
  },
  {
   "cell_type": "code",
   "execution_count": 12,
   "metadata": {},
   "outputs": [
    {
     "data": {
      "image/png": "[encoded data removed]",
      "text/plain": [
       "<Figure size 432x288 with 1 Axes>"
      ]
     },
     "metadata": {
      "needs_background": "light"
     },
     "output_type": "display_data"
    }
   ],
   "source": [
    "plt.figure() #creates a new figure\n",
    "x=alldata[:,0]\n",
    "y=alldata[:,1]\n",
    "z=alldata[:,2]\n",
    "plt.xlabel('Temperature (C)')\n",
    "plt.ylabel('Anisotropy')\n",
    "plt.plot(x,y,'ro',label=headers[1])\n",
    "plt.plot(x,z,'bo',label=headers[2])\n",
    "plt.legend()\n",
    "plt.savefig('clz_dppc_anisotropy.png', dpi=300)\n"
   ]
  },
  {
   "cell_type": "code",
   "execution_count": null,
   "metadata": {},
   "outputs": [],
   "source": []
  }
 ],
 "metadata": {
  "kernelspec": {
   "display_name": "Python 3",
   "language": "python",
   "name": "python3"
  },
  "language_info": {
   "codemirror_mode": {
    "name": "ipython",
    "version": 3
   },
   "file_extension": ".py",
   "mimetype": "text/x-python",
   "name": "python",
   "nbconvert_exporter": "python",
   "pygments_lexer": "ipython3",
   "version": "3.8.3"
  }
 },
 "nbformat": 4,
 "nbformat_minor": 4
}
