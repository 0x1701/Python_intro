{
 "cells": [
  {
   "cell_type": "markdown",
   "metadata": {},
   "source": [
    "## writing functions"
   ]
  },
  {
   "cell_type": "code",
   "execution_count": 7,
   "metadata": {},
   "outputs": [],
   "source": [
    "#def function_name(parameters):\n",
    "#    **body of your code**\n",
    "#    return value_to_return"
   ]
  },
  {
   "cell_type": "code",
   "execution_count": 8,
   "metadata": {},
   "outputs": [],
   "source": [
    "import numpy\n",
    "import os\n",
    "\n",
    "file_location = os.path.join('data','water.xyz')\n",
    "xyz_file = numpy.genfromtxt(fname=file_location, dtype='unicode', skip_header=2)\n",
    "symbols = xyz_file[:,0]\n",
    "coordinates = xyz_file[:,1:]\n",
    "coordinates = coordinates.astype(numpy.float)"
   ]
  },
  {
   "cell_type": "code",
   "execution_count": 9,
   "metadata": {},
   "outputs": [],
   "source": [
    "#coords1 = (0,1,2) xyz\n",
    "def calculate_distance(coords1, coords2):\n",
    "    x_distance = coords1[0]-coords2[0]\n",
    "    y_distance = coords1[1]-coords2[1]\n",
    "    z_distance = coords1[2]-coords2[2]\n",
    "    distance_12 = numpy.sqrt(x_distance**2+y_distance**2+z_distance**2)\n",
    "    return distance_12"
   ]
  },
  {
   "cell_type": "code",
   "execution_count": 10,
   "metadata": {},
   "outputs": [
    {
     "data": {
      "text/plain": [
       "1.0"
      ]
     },
     "execution_count": 10,
     "metadata": {},
     "output_type": "execute_result"
    }
   ],
   "source": [
    "vector1 = [0,0,0]\n",
    "vector2 = [0,0,1]\n",
    "calculate_distance(vector1, vector2)"
   ]
  },
  {
   "cell_type": "code",
   "execution_count": 11,
   "metadata": {},
   "outputs": [
    {
     "name": "stdout",
     "output_type": "stream",
     "text": [
      "O to H1 : 0.969\n",
      "O to H2 : 0.969\n"
     ]
    }
   ],
   "source": [
    "import numpy\n",
    "import os\n",
    "\n",
    "file_location = os.path.join('data','water.xyz')\n",
    "xyz_file = numpy.genfromtxt(fname=file_location, dtype='unicode', skip_header=2)\n",
    "symbols = xyz_file[:,0]\n",
    "coordinates = xyz_file[:,1:]\n",
    "coordinates = coordinates.astype(numpy.float)\n",
    "num_atoms = len(symbols)\n",
    "for num1 in range(0,num_atoms):\n",
    "    for num2 in range(0,num_atoms):\n",
    "        if num1<num2:\n",
    "            distance = calculate_distance(coordinates[num1],coordinates[num2])\n",
    "            if distance > 0 and distance <=1.5:\n",
    "                print(F'{symbols[num1]} to {symbols[num2]} : {distance:.3f}')\n",
    "            \n",
    "        "
   ]
  },
  {
   "cell_type": "code",
   "execution_count": 12,
   "metadata": {},
   "outputs": [],
   "source": [
    "def bond_check(atom_distance,min_length=0,max_length=1.5):\n",
    "    \"\"\"\n",
    "    Check if a distance is a bond based on a minimum and maximum length.\n",
    "    Inputs: distance, min_length, max_length\n",
    "    Defaults: min_length=0, max_length=1.5\n",
    "    \"\"\"\n",
    "    \n",
    "    if atom_distance > min_length and atom_distance <= max_length:\n",
    "        return True\n",
    "    else:\n",
    "        return False"
   ]
  },
  {
   "cell_type": "code",
   "execution_count": 13,
   "metadata": {},
   "outputs": [
    {
     "data": {
      "text/plain": [
       "False"
      ]
     },
     "execution_count": 13,
     "metadata": {},
     "output_type": "execute_result"
    }
   ],
   "source": [
    "bond_check(0.7,0.8,1)"
   ]
  },
  {
   "cell_type": "code",
   "execution_count": 14,
   "metadata": {},
   "outputs": [
    {
     "data": {
      "text/plain": [
       "True"
      ]
     },
     "execution_count": 14,
     "metadata": {},
     "output_type": "execute_result"
    }
   ],
   "source": [
    "bond_check(1.5)"
   ]
  },
  {
   "cell_type": "code",
   "execution_count": 20,
   "metadata": {},
   "outputs": [
    {
     "name": "stdout",
     "output_type": "stream",
     "text": [
      "O to H1 : 0.969\n",
      "O to H2 : 0.969\n"
     ]
    }
   ],
   "source": [
    "import numpy\n",
    "import os\n",
    "def calculate_distance(coords1, coords2):\n",
    "    x_distance = coords1[0]-coords2[0]\n",
    "    y_distance = coords1[1]-coords2[1]\n",
    "    z_distance = coords1[2]-coords2[2]\n",
    "    distance_12 = numpy.sqrt(x_distance**2+y_distance**2+z_distance**2)\n",
    "    return distance_12\n",
    "def bond_check(atom_distance,min_length=0,max_length=1.5):\n",
    "    \"\"\"\n",
    "    Check if a distance is a bond based on a minimum and maximum length.\n",
    "    Inputs: distance, min_length, max_length\n",
    "    Defaults: min_length=0, max_length=1.5\n",
    "    \"\"\"\n",
    "    \n",
    "    if atom_distance > min_length and atom_distance <= max_length:\n",
    "        return True\n",
    "    else:\n",
    "        return False\n",
    "\n",
    "file_location = os.path.join('data','water.xyz')\n",
    "xyz_file = numpy.genfromtxt(fname=file_location, dtype='unicode', skip_header=2)\n",
    "symbols = xyz_file[:,0]\n",
    "coordinates = xyz_file[:,1:]\n",
    "coordinates = coordinates.astype(numpy.float)\n",
    "num_atoms = len(symbols)\n",
    "for num1 in range(0,num_atoms):\n",
    "    for num2 in range(0,num_atoms):\n",
    "        if num1<num2:\n",
    "            distance = calculate_distance(coordinates[num1],coordinates[num2])\n",
    "            if bond_check(distance) is True:\n",
    "                print(F'{symbols[num1]} to {symbols[num2]} : {distance:.3f}')\n",
    "\n",
    "            "
   ]
  },
  {
   "cell_type": "code",
   "execution_count": null,
   "metadata": {},
   "outputs": [],
   "source": []
  },
  {
   "cell_type": "code",
   "execution_count": null,
   "metadata": {},
   "outputs": [],
   "source": []
  }
 ],
 "metadata": {
  "kernelspec": {
   "display_name": "Python 3",
   "language": "python",
   "name": "python3"
  },
  "language_info": {
   "codemirror_mode": {
    "name": "ipython",
    "version": 3
   },
   "file_extension": ".py",
   "mimetype": "text/x-python",
   "name": "python",
   "nbconvert_exporter": "python",
   "pygments_lexer": "ipython3",
   "version": "3.8.3"
  }
 },
 "nbformat": 4,
 "nbformat_minor": 4
}
