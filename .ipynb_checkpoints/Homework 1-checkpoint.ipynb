{
 "cells": [
  {
   "cell_type": "markdown",
   "metadata": {},
   "source": [
    "# Homework 1 \n",
    "## solution"
   ]
  },
  {
   "cell_type": "code",
   "execution_count": 4,
   "metadata": {},
   "outputs": [],
   "source": [
    "import os\n",
    "\n",
    "#to open the file for reading\n",
    "filename = os.path.join('data', '03_Prod.mdout') #build universal filepath\n",
    "f = open(filename, 'r') # r is for open the file FOR reading\n",
    "\n",
    "# then read data in the file\n",
    "data = f.readlines()\n",
    "f.close()\n",
    "#once you read the data, you close the file\n",
    "\n",
    "#open a file for writing\n",
    "f_write = open('Etot.txt', 'w+') # this will create a new file called etot.txt \n",
    "\n",
    "# loop through lines in the file\n",
    "for line in data:\n",
    "    split_line = line.split()\n",
    "    # get info from line\n",
    "    if 'Etot' in line:\n",
    "        # Write info into file\n",
    "\n",
    "        #print(split_line(2))\n",
    "        f_write.write(f'{split_line[2]}\\n') #/n is for new line\n",
    "f_write.close()\n"
   ]
  },
  {
   "cell_type": "code",
   "execution_count": null,
   "metadata": {},
   "outputs": [],
   "source": []
  }
 ],
 "metadata": {
  "kernelspec": {
   "display_name": "Python 3",
   "language": "python",
   "name": "python3"
  },
  "language_info": {
   "codemirror_mode": {
    "name": "ipython",
    "version": 3
   },
   "file_extension": ".py",
   "mimetype": "text/x-python",
   "name": "python",
   "nbconvert_exporter": "python",
   "pygments_lexer": "ipython3",
   "version": "3.8.3"
  }
 },
 "nbformat": 4,
 "nbformat_minor": 4
}
