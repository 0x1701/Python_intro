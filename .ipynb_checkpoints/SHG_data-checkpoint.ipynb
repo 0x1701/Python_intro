{
 "cells": [
  {
   "cell_type": "code",
   "execution_count": 3,
   "metadata": {},
   "outputs": [],
   "source": [
    "import numpy\n",
    "import os\n",
    "import matplotlib.pyplot as plt"
   ]
  },
  {
   "cell_type": "code",
   "execution_count": 4,
   "metadata": {},
   "outputs": [
    {
     "name": "stdout",
     "output_type": "stream",
     "text": [
      "[['conc_avg_DOPC_all' 'avg_DOPC_all' 'stdev_DOPC_all']\n",
      " ['0' '-1.14e-17' '1.53341e-17']\n",
      " ['5e-07' '0.189' '0.06918']\n",
      " ['1e-06' '0.336' '0.129749']\n",
      " ['2e-06' '0.821' '0']\n",
      " ['5e-06' '1.29' '0.266784']\n",
      " ['1e-05' '1.72' '0.258143']\n",
      " ['2e-05' '1.99' '0.128156']\n",
      " ['5e-05' '2.29' '0.126042']]\n"
     ]
    }
   ],
   "source": [
    "DOPCclozapine_file = os.path.join('data', 'DOPC_clozapine_only.csv')\n",
    "DOPCclozapine = numpy.genfromtxt(fname=DOPCclozapine_file, delimiter=',', dtype='unicode')\n",
    "print(DOPCclozapine)"
   ]
  },
  {
   "cell_type": "code",
   "execution_count": 5,
   "metadata": {},
   "outputs": [
    {
     "name": "stdout",
     "output_type": "stream",
     "text": [
      "['conc_avg_DOPC_all' 'avg_DOPC_all' 'stdev_DOPC_all']\n"
     ]
    }
   ],
   "source": [
    "headers = DOPCclozapine[0]\n",
    "print(headers)"
   ]
  },
  {
   "cell_type": "code",
   "execution_count": 6,
   "metadata": {},
   "outputs": [
    {
     "name": "stdout",
     "output_type": "stream",
     "text": [
      "[['0' '-1.14e-17' '1.53341e-17']\n",
      " ['5e-07' '0.189' '0.06918']\n",
      " ['1e-06' '0.336' '0.129749']\n",
      " ['2e-06' '0.821' '0']\n",
      " ['5e-06' '1.29' '0.266784']\n",
      " ['1e-05' '1.72' '0.258143']\n",
      " ['2e-05' '1.99' '0.128156']\n",
      " ['5e-05' '2.29' '0.126042']]\n"
     ]
    }
   ],
   "source": [
    "data = DOPCclozapine[1:]\n",
    "print(data)"
   ]
  },
  {
   "cell_type": "code",
   "execution_count": 8,
   "metadata": {},
   "outputs": [
    {
     "name": "stdout",
     "output_type": "stream",
     "text": [
      "[[ 0.00000e+00 -1.14000e-17  1.53341e-17]\n",
      " [ 5.00000e-07  1.89000e-01  6.91800e-02]\n",
      " [ 1.00000e-06  3.36000e-01  1.29749e-01]\n",
      " [ 2.00000e-06  8.21000e-01  0.00000e+00]\n",
      " [ 5.00000e-06  1.29000e+00  2.66784e-01]\n",
      " [ 1.00000e-05  1.72000e+00  2.58143e-01]\n",
      " [ 2.00000e-05  1.99000e+00  1.28156e-01]\n",
      " [ 5.00000e-05  2.29000e+00  1.26042e-01]]\n"
     ]
    }
   ],
   "source": [
    "data = data.astype(numpy.float)\n",
    "print(data)"
   ]
  },
  {
   "cell_type": "code",
   "execution_count": 17,
   "metadata": {},
   "outputs": [
    {
     "data": {
      "text/plain": [
       "<matplotlib.legend.Legend at 0x1ea0af01040>"
      ]
     },
     "execution_count": 17,
     "metadata": {},
     "output_type": "execute_result"
    },
    {
     "data": {
      "image/png": "[encoded data removed]",
      "text/plain": [
       "<Figure size 432x288 with 1 Axes>"
      ]
     },
     "metadata": {
      "needs_background": "light"
     },
     "output_type": "display_data"
    }
   ],
   "source": [
    "plt.figure() #creates a new figure\n",
    "x=data[:,0]\n",
    "y=data[:,1]\n",
    "plt.xlabel('Concentration (M)')\n",
    "plt.ylabel('SHG Intensity (a.u.)')\n",
    "plt.plot(x,y,'ro',label=headers[1])\n",
    "plt.legend()"
   ]
  },
  {
   "cell_type": "code",
   "execution_count": 16,
   "metadata": {},
   "outputs": [
    {
     "name": "stdout",
     "output_type": "stream",
     "text": [
      "avg_DOPC_all\n"
     ]
    }
   ],
   "source": [
    "print(headers[1])"
   ]
  },
  {
   "cell_type": "code",
   "execution_count": 34,
   "metadata": {},
   "outputs": [
    {
     "name": "stdout",
     "output_type": "stream",
     "text": [
      "[['conc_M_avg_5_DOPC' 'DOPC_NDMC_avg5' 'stdev_NDMC_DOPC_avg5']\n",
      " ['0' '-4.14E-18' '2.09E-17']\n",
      " ['5.00E-07' '0.18' '0.0594075']\n",
      " ['1.00E-06' '0.322' '0.116801']\n",
      " ['2.00E-06' '0.821' '0']\n",
      " ['5.00E-06' '1.29' '0.266784']\n",
      " ['1.00E-05' '1.72' '0.258143']\n",
      " ['2.00E-05' '1.99' '0.128156']\n",
      " ['5.00E-05' '2.29' '0.0891986']\n",
      " ['0.0001' '2.43949' '0']\n",
      " ['0.0002' '2.72222' '0']]\n"
     ]
    }
   ],
   "source": [
    "DOPCndclozapine_file = os.path.join('data', 'avg5_DOPC_NDMC_last_three_columns1.csv')\n",
    "DOPCndclozapine = numpy.genfromtxt(fname=DOPCndclozapine_file, delimiter=',', dtype='unicode')\n",
    "print(DOPCndclozapine)"
   ]
  },
  {
   "cell_type": "code",
   "execution_count": 37,
   "metadata": {},
   "outputs": [
    {
     "name": "stdout",
     "output_type": "stream",
     "text": [
      "['conc_M_avg_5_DOPC' 'DOPC_NDMC_avg5' 'stdev_NDMC_DOPC_avg5']\n"
     ]
    }
   ],
   "source": [
    "ndcheaders = DOPCndclozapine[0]\n",
    "print(ndcheaders)"
   ]
  },
  {
   "cell_type": "code",
   "execution_count": 38,
   "metadata": {},
   "outputs": [
    {
     "name": "stdout",
     "output_type": "stream",
     "text": [
      "[['0' '-4.14E-18' '2.09E-17']\n",
      " ['5.00E-07' '0.18' '0.0594075']\n",
      " ['1.00E-06' '0.322' '0.116801']\n",
      " ['2.00E-06' '0.821' '0']\n",
      " ['5.00E-06' '1.29' '0.266784']\n",
      " ['1.00E-05' '1.72' '0.258143']\n",
      " ['2.00E-05' '1.99' '0.128156']\n",
      " ['5.00E-05' '2.29' '0.0891986']\n",
      " ['0.0001' '2.43949' '0']\n",
      " ['0.0002' '2.72222' '0']]\n"
     ]
    }
   ],
   "source": [
    "ndcdata = DOPCndclozapine[1:]\n",
    "print(ndcdata)"
   ]
  },
  {
   "cell_type": "code",
   "execution_count": 40,
   "metadata": {},
   "outputs": [
    {
     "name": "stdout",
     "output_type": "stream",
     "text": [
      "[[ 0.00000e+00 -4.14000e-18  2.09000e-17]\n",
      " [ 5.00000e-07  1.80000e-01  5.94075e-02]\n",
      " [ 1.00000e-06  3.22000e-01  1.16801e-01]\n",
      " [ 2.00000e-06  8.21000e-01  0.00000e+00]\n",
      " [ 5.00000e-06  1.29000e+00  2.66784e-01]\n",
      " [ 1.00000e-05  1.72000e+00  2.58143e-01]\n",
      " [ 2.00000e-05  1.99000e+00  1.28156e-01]\n",
      " [ 5.00000e-05  2.29000e+00  8.91986e-02]\n",
      " [ 1.00000e-04  2.43949e+00  0.00000e+00]\n",
      " [ 2.00000e-04  2.72222e+00  0.00000e+00]]\n"
     ]
    }
   ],
   "source": [
    "ndcdata = ndcdata.astype(numpy.float)\n",
    "print(ndcdata)"
   ]
  },
  {
   "cell_type": "code",
   "execution_count": 58,
   "metadata": {},
   "outputs": [
    {
     "data": {
      "text/plain": [
       "<matplotlib.legend.Legend at 0x1ea0c4c3910>"
      ]
     },
     "execution_count": 58,
     "metadata": {},
     "output_type": "execute_result"
    },
    {
     "data": {
      "image/png": "[encoded data removed]",
      "text/plain": [
       "<Figure size 432x288 with 1 Axes>"
      ]
     },
     "metadata": {
      "needs_background": "light"
     },
     "output_type": "display_data"
    }
   ],
   "source": [
    "plt.figure() #creates a new figure\n",
    "x=data[:,0]\n",
    "y=data[:,1]\n",
    "\n",
    "plt.xlabel('Concentration (M)')\n",
    "plt.ylabel('SHG Intensity (a.u.)')\n",
    "\n",
    "plt.plot(x,y,'ro',label=headers[1])\n",
    "plt.legend()"
   ]
  },
  {
   "cell_type": "code",
   "execution_count": 49,
   "metadata": {},
   "outputs": [
    {
     "data": {
      "text/plain": [
       "<matplotlib.legend.Legend at 0x1ea0b353640>"
      ]
     },
     "execution_count": 49,
     "metadata": {},
     "output_type": "execute_result"
    },
    {
     "data": {
      "image/png": "[encoded data removed]",
      "text/plain": [
       "<Figure size 432x288 with 1 Axes>"
      ]
     },
     "metadata": {
      "needs_background": "light"
     },
     "output_type": "display_data"
    }
   ],
   "source": [
    "\n",
    "plt.figure()\n",
    "x=ndcdata[:,0]\n",
    "y=ndcdata[:,1]\n",
    "plt.xlabel('Concentration (M)')\n",
    "plt.ylabel('SHG Intensity (a.u.)')\n",
    "plt.plot(X,Y,'ro',label=ndcheaders[1])\n",
    "plt.legend()"
   ]
  },
  {
   "cell_type": "code",
   "execution_count": 86,
   "metadata": {},
   "outputs": [
    {
     "data": {
      "image/png": "[encoded data removed]",
      "text/plain": [
       "<Figure size 432x288 with 1 Axes>"
      ]
     },
     "metadata": {
      "needs_background": "light"
     },
     "output_type": "display_data"
    }
   ],
   "source": [
    "\n",
    "clzconc=data[:,0]\n",
    "clz=data[:,1]\n",
    "ndcconc=ndcdata[:,0]\n",
    "ndc=ndcdata[:,1]\n",
    "plt.xlabel('Concentration (M)')\n",
    "plt.ylabel('SHG Intensity (a.u.)')\n",
    "plt.scatter(clzconc, clz, color='r',label=headers[1])\n",
    "plt.scatter(ndcconc, ndc, color='b',label=ndcheaders[1])\n",
    "plt.show()"
   ]
  },
  {
   "cell_type": "code",
   "execution_count": 72,
   "metadata": {},
   "outputs": [
    {
     "name": "stdout",
     "output_type": "stream",
     "text": [
      "[0.e+00 5.e-07 1.e-06 2.e-06 5.e-06 1.e-05 2.e-05 5.e-05 1.e-04 2.e-04]\n"
     ]
    }
   ],
   "source": [
    "print(ndcconc)"
   ]
  },
  {
   "cell_type": "code",
   "execution_count": 69,
   "metadata": {},
   "outputs": [],
   "source": [
    "ndc = [-4.14000e-18, 1.80000e-01, 3.22000e-01, 8.21000e-01, 1.29000e+00, 1.72000e+00, 1.99000e+00, 2.29000e+00, 2.43949e+00, 2.72222e+00]"
   ]
  },
  {
   "cell_type": "code",
   "execution_count": 71,
   "metadata": {},
   "outputs": [
    {
     "name": "stdout",
     "output_type": "stream",
     "text": [
      "[-4.14e-18, 0.18, 0.322, 0.821, 1.29, 1.72, 1.99, 2.29, 2.43949, 2.72222]\n"
     ]
    }
   ],
   "source": [
    "print(ndc)"
   ]
  },
  {
   "cell_type": "code",
   "execution_count": 73,
   "metadata": {},
   "outputs": [],
   "source": [
    "ndcconc = [0.e+00, 5.e-07, 1.e-06, 2.e-06, 5.e-06, 1.e-05, 2.e-05, 5.e-05, 1.e-04, 2.e-04]"
   ]
  },
  {
   "cell_type": "code",
   "execution_count": 74,
   "metadata": {},
   "outputs": [
    {
     "name": "stdout",
     "output_type": "stream",
     "text": [
      "[0.0, 5e-07, 1e-06, 2e-06, 5e-06, 1e-05, 2e-05, 5e-05, 0.0001, 0.0002]\n"
     ]
    }
   ],
   "source": [
    "print(ndcconc)"
   ]
  },
  {
   "cell_type": "code",
   "execution_count": 85,
   "metadata": {},
   "outputs": [
    {
     "data": {
      "image/png": "[encoded data removed]",
      "text/plain": [
       "<Figure size 432x288 with 1 Axes>"
      ]
     },
     "metadata": {
      "needs_background": "light"
     },
     "output_type": "display_data"
    },
    {
     "name": "stderr",
     "output_type": "stream",
     "text": [
      "No handles with labels found to put in legend.\n"
     ]
    },
    {
     "data": {
      "text/plain": [
       "<matplotlib.legend.Legend at 0x1ea0c682f10>"
      ]
     },
     "execution_count": 85,
     "metadata": {},
     "output_type": "execute_result"
    },
    {
     "data": {
      "image/png": "[encoded data removed]",
      "text/plain": [
       "<Figure size 432x288 with 1 Axes>"
      ]
     },
     "metadata": {
      "needs_background": "light"
     },
     "output_type": "display_data"
    }
   ],
   "source": [
    "clzconc=data[:,0]\n",
    "clz=data[:,1]\n",
    "plt.xlabel('Concentration (M)')\n",
    "plt.ylabel('SHG Intensity (a.u.)')\n",
    "plt.scatter(clzconc, clz, color='r',label=headers[1])\n",
    "plt.scatter(ndcconc, ndc, color='b',label=ndcheaders[1])\n",
    "plt.show()\n",
    "plt.legend()"
   ]
  },
  {
   "cell_type": "code",
   "execution_count": 77,
   "metadata": {},
   "outputs": [
    {
     "data": {
      "image/png": "[encoded data removed]",
      "text/plain": [
       "<Figure size 432x288 with 1 Axes>"
      ]
     },
     "metadata": {
      "needs_background": "light"
     },
     "output_type": "display_data"
    }
   ],
   "source": [
    "clzconc=data[:,0]\n",
    "clz=data[:,1]\n",
    "plt.xlabel('Concentration (M)')\n",
    "plt.ylabel('SHG Intensity (a.u.)')\n",
    "plt.scatter(clzconc, clz, color='r',label=headers[1])\n",
    "plt.show()"
   ]
  },
  {
   "cell_type": "code",
   "execution_count": 82,
   "metadata": {},
   "outputs": [
    {
     "data": {
      "text/plain": [
       "<matplotlib.legend.Legend at 0x1ea0c52a940>"
      ]
     },
     "execution_count": 82,
     "metadata": {},
     "output_type": "execute_result"
    },
    {
     "data": {
      "image/png": "[encoded data removed]",
      "text/plain": [
       "<Figure size 432x288 with 1 Axes>"
      ]
     },
     "metadata": {
      "needs_background": "light"
     },
     "output_type": "display_data"
    }
   ],
   "source": [
    "w=[1, 2, 3]\n",
    "a=[3, 9, 27]\n",
    "b=[2, 4, 6]\n",
    "plt.xlabel('X Axis')\n",
    "plt.ylabel('Y Axis')\n",
    "plt.scatter(w, a, color='r',label='a')\n",
    "plt.legend()"
   ]
  },
  {
   "cell_type": "code",
   "execution_count": 84,
   "metadata": {
    "scrolled": true
   },
   "outputs": [
    {
     "data": {
      "text/plain": [
       "<matplotlib.legend.Legend at 0x1ea0c63ffd0>"
      ]
     },
     "execution_count": 84,
     "metadata": {},
     "output_type": "execute_result"
    },
    {
     "data": {
      "image/png": "[encoded data removed]",
      "text/plain": [
       "<Figure size 432x288 with 1 Axes>"
      ]
     },
     "metadata": {
      "needs_background": "light"
     },
     "output_type": "display_data"
    }
   ],
   "source": [
    "plt.scatter(w, a, color='r',label='a')\n",
    "plt.scatter(w, b, color='b',label='b')\n",
    "plt.legend()"
   ]
  },
  {
   "cell_type": "code",
   "execution_count": null,
   "metadata": {},
   "outputs": [],
   "source": []
  }
 ],
 "metadata": {
  "kernelspec": {
   "display_name": "Python 3",
   "language": "python",
   "name": "python3"
  },
  "language_info": {
   "codemirror_mode": {
    "name": "ipython",
    "version": 3
   },
   "file_extension": ".py",
   "mimetype": "text/x-python",
   "name": "python",
   "nbconvert_exporter": "python",
   "pygments_lexer": "ipython3",
   "version": "3.8.3"
  }
 },
 "nbformat": 4,
 "nbformat_minor": 4
}
