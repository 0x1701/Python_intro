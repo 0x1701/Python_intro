{
 "cells": [
  {
   "cell_type": "markdown",
   "metadata": {},
   "source": [
    "Attempting to curve fit nCLZ "
   ]
  },
  {
   "cell_type": "code",
   "execution_count": 19,
   "metadata": {},
   "outputs": [],
   "source": [
    "import numpy as np\n",
    "import os\n",
    "import matplotlib.pyplot as plt\n",
    "from scipy.optimize import curve_fit"
   ]
  },
  {
   "cell_type": "code",
   "execution_count": 4,
   "metadata": {},
   "outputs": [
    {
     "name": "stdout",
     "output_type": "stream",
     "text": [
      "[['conc_M_avg_5_DOPC' 'DOPC_NDMC_avg5' 'stdev_NDMC_DOPC_avg5']\n",
      " ['0' '-4.14E-18' '2.09E-17']\n",
      " ['5.00E-07' '0.18' '0.0594075']\n",
      " ['1.00E-06' '0.322' '0.116801']\n",
      " ['2.00E-06' '0.821' '0']\n",
      " ['5.00E-06' '1.29' '0.266784']\n",
      " ['1.00E-05' '1.72' '0.258143']\n",
      " ['2.00E-05' '1.99' '0.128156']\n",
      " ['5.00E-05' '2.29' '0.0891986']\n",
      " ['0.0001' '2.43949' '0']\n",
      " ['0.0002' '2.72222' '0']]\n"
     ]
    }
   ],
   "source": [
    "NDClozapine = os.path.join('data', 'avg5_DOPC_NDMC_last_three_columns1.csv')\n",
    "NDClozapine = numpy.genfromtxt(fname=NDClozapine, delimiter=',', dtype='unicode')\n",
    "print(NDClozapine)"
   ]
  },
  {
   "cell_type": "code",
   "execution_count": 7,
   "metadata": {},
   "outputs": [
    {
     "name": "stdout",
     "output_type": "stream",
     "text": [
      "['conc_M_avg_5_DOPC' 'DOPC_NDMC_avg5' 'stdev_NDMC_DOPC_avg5']\n",
      "[['0' '-4.14E-18' '2.09E-17']\n",
      " ['5.00E-07' '0.18' '0.0594075']\n",
      " ['1.00E-06' '0.322' '0.116801']\n",
      " ['2.00E-06' '0.821' '0']\n",
      " ['5.00E-06' '1.29' '0.266784']\n",
      " ['1.00E-05' '1.72' '0.258143']\n",
      " ['2.00E-05' '1.99' '0.128156']\n",
      " ['5.00E-05' '2.29' '0.0891986']\n",
      " ['0.0001' '2.43949' '0']\n",
      " ['0.0002' '2.72222' '0']]\n"
     ]
    }
   ],
   "source": [
    "NDClozapine_headers = NDClozapine[0]\n",
    "print(NDClozapine_headers)\n",
    "NDClozapine_data = NDClozapine[1:,:]\n",
    "print(NDClozapine_data)"
   ]
  },
  {
   "cell_type": "code",
   "execution_count": 11,
   "metadata": {},
   "outputs": [
    {
     "name": "stdout",
     "output_type": "stream",
     "text": [
      "[[ 0.00000e+00 -4.14000e-18  2.09000e-17]\n",
      " [ 5.00000e-07  1.80000e-01  5.94075e-02]\n",
      " [ 1.00000e-06  3.22000e-01  1.16801e-01]\n",
      " [ 2.00000e-06  8.21000e-01  0.00000e+00]\n",
      " [ 5.00000e-06  1.29000e+00  2.66784e-01]\n",
      " [ 1.00000e-05  1.72000e+00  2.58143e-01]\n",
      " [ 2.00000e-05  1.99000e+00  1.28156e-01]\n",
      " [ 5.00000e-05  2.29000e+00  8.91986e-02]\n",
      " [ 1.00000e-04  2.43949e+00  0.00000e+00]\n",
      " [ 2.00000e-04  2.72222e+00  0.00000e+00]]\n",
      "[0.e+00 5.e-07 1.e-06 2.e-06 5.e-06 1.e-05 2.e-05 5.e-05 1.e-04 2.e-04]\n"
     ]
    }
   ],
   "source": [
    "NDClozapine_data = NDClozapine_data.astype(numpy.float)\n",
    "print(NDClozapine_data)\n",
    "print(NDClozapine_data[:,0])"
   ]
  },
  {
   "cell_type": "code",
   "execution_count": 22,
   "metadata": {},
   "outputs": [
    {
     "data": {
      "text/plain": [
       "<matplotlib.legend.Legend at 0x23191c88340>"
      ]
     },
     "execution_count": 22,
     "metadata": {},
     "output_type": "execute_result"
    },
    {
     "data": {
      "image/png": "[encoded data removed]",
      "text/plain": [
       "<Figure size 432x288 with 1 Axes>"
      ]
     },
     "metadata": {
      "needs_background": "light"
     },
     "output_type": "display_data"
    }
   ],
   "source": [
    "plt.figure() #creates a new figure\n",
    "xdata=NDClozapine_data[:,0] \n",
    "ydata=NDClozapine_data[:,1]\n",
    "\n",
    "plt.xlabel('Concentration (M)')\n",
    "plt.ylabel('SHG Intensity (a.u.)')\n",
    "\n",
    "plt.plot(xdata,ydata,'ro',label=\"NDClozapine DOPC\")\n",
    "plt.legend()"
   ]
  },
  {
   "cell_type": "code",
   "execution_count": 21,
   "metadata": {},
   "outputs": [
    {
     "data": {
      "text/plain": [
       "[<matplotlib.lines.Line2D at 0x23191c7af70>]"
      ]
     },
     "execution_count": 21,
     "metadata": {},
     "output_type": "execute_result"
    },
    {
     "data": {
      "image/png": "[encoded data removed]",
      "text/plain": [
       "<Figure size 432x288 with 1 Axes>"
      ]
     },
     "metadata": {
      "needs_background": "light"
     },
     "output_type": "display_data"
    }
   ],
   "source": [
    "xdata = np.asarray(x)\n",
    "ydata = np.asarray(y)\n",
    "plt.plot(xdata, ydata, 'o')"
   ]
  },
  {
   "cell_type": "code",
   "execution_count": 31,
   "metadata": {},
   "outputs": [
    {
     "name": "stdout",
     "output_type": "stream",
     "text": [
      "520082.8853286031\n",
      "2.5491558183367333\n"
     ]
    }
   ],
   "source": [
    "# Code input for the Gaussian function fit\n",
    "\n",
    "# Define the Gaussian function\n",
    "def Langmuir(x,k,M):\n",
    "    y=((np.sqrt(M)*k*x)/(1+(k*x)))**2\n",
    "    return y\n",
    "parameters, covariance = curve_fit(Langmuir, xdata, ydata)\n",
    "fit_A = parameters[0]\n",
    "fit_B = parameters[1]\n",
    "print(fit_A)\n",
    "print(fit_B)"
   ]
  },
  {
   "cell_type": "code",
   "execution_count": 38,
   "metadata": {},
   "outputs": [
    {
     "data": {
      "text/plain": [
       "<matplotlib.legend.Legend at 0x23193b297f0>"
      ]
     },
     "execution_count": 38,
     "metadata": {},
     "output_type": "execute_result"
    },
    {
     "data": {
      "image/png": "[encoded data removed]",
      "text/plain": [
       "<Figure size 432x288 with 1 Axes>"
      ]
     },
     "metadata": {
      "needs_background": "light"
     },
     "output_type": "display_data"
    }
   ],
   "source": [
    "fit_y = Langmuir(xdata, fit_A, fit_B)\n",
    "plt.plot(xdata, ydata, 'o', label='data')\n",
    "plt.plot(xdata, fit_y, '-', label='fit')\n",
    "plt.legend()\n"
   ]
  },
  {
   "cell_type": "code",
   "execution_count": 36,
   "metadata": {},
   "outputs": [
    {
     "name": "stdout",
     "output_type": "stream",
     "text": [
      "[5.93502525e+04 7.11011270e-02]\n"
     ]
    }
   ],
   "source": [
    "SE = np.sqrt(np.diag(covariance))\n",
    "print(SE)"
   ]
  },
  {
   "cell_type": "code",
   "execution_count": null,
   "metadata": {},
   "outputs": [],
   "source": []
  }
 ],
 "metadata": {
  "kernelspec": {
   "display_name": "Python 3",
   "language": "python",
   "name": "python3"
  },
  "language_info": {
   "codemirror_mode": {
    "name": "ipython",
    "version": 3
   },
   "file_extension": ".py",
   "mimetype": "text/x-python",
   "name": "python",
   "nbconvert_exporter": "python",
   "pygments_lexer": "ipython3",
   "version": "3.8.3"
  }
 },
 "nbformat": 4,
 "nbformat_minor": 4
}
